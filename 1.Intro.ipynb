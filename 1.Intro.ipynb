{
 "cells": [
  {
   "cell_type": "markdown",
   "id": "48d4bc34-2b18-4efe-91c0-79e7d46b0381",
   "metadata": {},
   "source": [
    "## 1.0 Defining attributes in Classes"
   ]
  },
  {
   "cell_type": "code",
   "execution_count": 16,
   "id": "78493981-dab3-4720-b9c8-fd3cbbfa1be5",
   "metadata": {},
   "outputs": [],
   "source": [
    "class Program:\n",
    "    language = 'Python'\n",
    "    version = '3.6'"
   ]
  },
  {
   "cell_type": "markdown",
   "id": "5ce5e09d-ce37-46b9-bf28-6b111f8bd4ef",
   "metadata": {},
   "source": [
    "`Note`:\n",
    "- Python stores all class attributes in a dictionary.\n",
    "- Use `__dict__` property to see all attribute names. Notice `__dict__` is also in that dictionary"
   ]
  },
  {
   "cell_type": "code",
   "execution_count": 17,
   "id": "bf3bc18e-dbca-458c-aad0-7c0f81ebe547",
   "metadata": {},
   "outputs": [
    {
     "data": {
      "text/plain": [
       "mappingproxy({'__module__': '__main__',\n",
       "              'language': 'Python',\n",
       "              'version': '3.6',\n",
       "              '__dict__': <attribute '__dict__' of 'Program' objects>,\n",
       "              '__weakref__': <attribute '__weakref__' of 'Program' objects>,\n",
       "              '__doc__': None})"
      ]
     },
     "execution_count": 17,
     "metadata": {},
     "output_type": "execute_result"
    }
   ],
   "source": [
    "Program.__dict__"
   ]
  },
  {
   "cell_type": "markdown",
   "id": "64501ef4-90db-472d-9852-6d3adfe048d2",
   "metadata": {},
   "source": [
    "- This output/dictionary is not directly mutable\n",
    "- However, using setattr or the dot notation (MyClass.x = 100), you should be able to mutate the dict\n",
    "- This __dict__ attribute of a class can be quite useful for debugging purposes"
   ]
  },
  {
   "cell_type": "markdown",
   "id": "30be56b3-6dac-4726-afc4-df4b08e1f972",
   "metadata": {},
   "source": [
    "**1.1 accessing attributes**\n",
    "- using dot notation\n",
    "- using getattr()"
   ]
  },
  {
   "cell_type": "code",
   "execution_count": 18,
   "id": "d6379bc3-c389-44fd-ab08-77fb64809ef3",
   "metadata": {},
   "outputs": [
    {
     "data": {
      "text/plain": [
       "'Python'"
      ]
     },
     "execution_count": 18,
     "metadata": {},
     "output_type": "execute_result"
    }
   ],
   "source": [
    "# using dot notation\n",
    "Program.language"
   ]
  },
  {
   "cell_type": "code",
   "execution_count": 26,
   "id": "d9f7ebc2-944a-4e01-9aa5-879392e4faa9",
   "metadata": {},
   "outputs": [
    {
     "data": {
      "text/plain": [
       "'C++'"
      ]
     },
     "execution_count": 26,
     "metadata": {},
     "output_type": "execute_result"
    }
   ],
   "source": [
    "# using getattr()\n",
    "getattr(Program, 'language')"
   ]
  },
  {
   "cell_type": "markdown",
   "id": "83b4d1ce-71ce-48df-9f76-1c06c47d4d62",
   "metadata": {},
   "source": [
    "what if the attribute we are trying to get doesn't exist"
   ]
  },
  {
   "cell_type": "code",
   "execution_count": 27,
   "id": "8b875e78-2feb-4537-bbc8-daf39b28340e",
   "metadata": {},
   "outputs": [
    {
     "ename": "AttributeError",
     "evalue": "type object 'Program' has no attribute 'setting'",
     "output_type": "error",
     "traceback": [
      "\u001b[0;31m---------------------------------------------------------------------------\u001b[0m",
      "\u001b[0;31mAttributeError\u001b[0m                            Traceback (most recent call last)",
      "\u001b[0;32m/var/folders/ns/60cy6g696zq0bxccd2ky43jr0000gn/T/ipykernel_30525/1649488729.py\u001b[0m in \u001b[0;36m<module>\u001b[0;34m\u001b[0m\n\u001b[0;32m----> 1\u001b[0;31m \u001b[0mProgram\u001b[0m\u001b[0;34m.\u001b[0m\u001b[0msetting\u001b[0m\u001b[0;34m\u001b[0m\u001b[0;34m\u001b[0m\u001b[0m\n\u001b[0m",
      "\u001b[0;31mAttributeError\u001b[0m: type object 'Program' has no attribute 'setting'"
     ]
    }
   ],
   "source": [
    "Program.setting"
   ]
  },
  {
   "cell_type": "code",
   "execution_count": 28,
   "id": "b2040fc3-6258-4538-960e-fee11453aa12",
   "metadata": {},
   "outputs": [
    {
     "ename": "AttributeError",
     "evalue": "type object 'Program' has no attribute 'setting'",
     "output_type": "error",
     "traceback": [
      "\u001b[0;31m---------------------------------------------------------------------------\u001b[0m",
      "\u001b[0;31mAttributeError\u001b[0m                            Traceback (most recent call last)",
      "\u001b[0;32m/var/folders/ns/60cy6g696zq0bxccd2ky43jr0000gn/T/ipykernel_30525/2861939700.py\u001b[0m in \u001b[0;36m<module>\u001b[0;34m\u001b[0m\n\u001b[0;32m----> 1\u001b[0;31m \u001b[0mgetattr\u001b[0m\u001b[0;34m(\u001b[0m\u001b[0mProgram\u001b[0m\u001b[0;34m,\u001b[0m \u001b[0;34m'setting'\u001b[0m\u001b[0;34m)\u001b[0m\u001b[0;34m\u001b[0m\u001b[0;34m\u001b[0m\u001b[0m\n\u001b[0m",
      "\u001b[0;31mAttributeError\u001b[0m: type object 'Program' has no attribute 'setting'"
     ]
    }
   ],
   "source": [
    "getattr(Program, 'setting') #we can use this function to tell python to output an optional string if the attribute doesn't exist"
   ]
  },
  {
   "cell_type": "code",
   "execution_count": 29,
   "id": "6df2a389-b3d0-45b1-8002-77848ac82ab3",
   "metadata": {},
   "outputs": [
    {
     "data": {
      "text/plain": [
       "'N/A'"
      ]
     },
     "execution_count": 29,
     "metadata": {},
     "output_type": "execute_result"
    }
   ],
   "source": [
    "getattr(Program, 'setting', 'N/A')"
   ]
  },
  {
   "cell_type": "markdown",
   "id": "259c5b62-61c6-4208-b7a3-3bea008e008c",
   "metadata": {},
   "source": [
    "**1.2 Setting attributes**\n",
    "- using dot notation\n",
    "- using setattr()"
   ]
  },
  {
   "cell_type": "code",
   "execution_count": 19,
   "id": "4bcd5753-39e3-42d9-ab1c-c08fb6a827d9",
   "metadata": {},
   "outputs": [],
   "source": [
    "# overwriting attributes inplace (mutating attribute values)\n",
    "Program.language = 'C++'"
   ]
  },
  {
   "cell_type": "code",
   "execution_count": 20,
   "id": "d6b07b1c-21a7-427c-bd78-e2223e093606",
   "metadata": {},
   "outputs": [
    {
     "data": {
      "text/plain": [
       "'C++'"
      ]
     },
     "execution_count": 20,
     "metadata": {},
     "output_type": "execute_result"
    }
   ],
   "source": [
    "Program.language"
   ]
  },
  {
   "cell_type": "code",
   "execution_count": 23,
   "id": "9db6c2cd-a4d2-477e-9663-135f4c2900ac",
   "metadata": {},
   "outputs": [],
   "source": [
    "# alternatively, use setattr\n",
    "setattr(Program, 'version', '3.7')"
   ]
  },
  {
   "cell_type": "code",
   "execution_count": 24,
   "id": "23e8b1c0-970b-46ff-97d5-a111033fba10",
   "metadata": {},
   "outputs": [
    {
     "data": {
      "text/plain": [
       "'3.7'"
      ]
     },
     "execution_count": 24,
     "metadata": {},
     "output_type": "execute_result"
    }
   ],
   "source": [
    "Program.version"
   ]
  },
  {
   "cell_type": "code",
   "execution_count": 31,
   "id": "57129582-686e-4914-af56-6bc5b13e9c3d",
   "metadata": {},
   "outputs": [],
   "source": [
    "setattr(Program, 'setting', '4')"
   ]
  },
  {
   "cell_type": "code",
   "execution_count": 32,
   "id": "03501298-80b3-4360-8f77-76a03ff477d8",
   "metadata": {},
   "outputs": [
    {
     "data": {
      "text/plain": [
       "'4'"
      ]
     },
     "execution_count": 32,
     "metadata": {},
     "output_type": "execute_result"
    }
   ],
   "source": [
    "Program.setting"
   ]
  },
  {
   "cell_type": "markdown",
   "id": "152a82b5-e458-4bb5-998c-f4311fcb2c5a",
   "metadata": {},
   "source": [
    "**1.3 Deleting attributes**\n",
    "- using del keyword\n",
    "- using delattr()"
   ]
  },
  {
   "cell_type": "code",
   "execution_count": 35,
   "id": "8ad0b247-a488-4721-9749-55a00ee4e14c",
   "metadata": {},
   "outputs": [],
   "source": [
    "# using del\n",
    "del Program.version"
   ]
  },
  {
   "cell_type": "code",
   "execution_count": 36,
   "id": "09232929-1c02-4a74-a015-98a8b01fb97b",
   "metadata": {},
   "outputs": [
    {
     "ename": "AttributeError",
     "evalue": "type object 'Program' has no attribute 'version'",
     "output_type": "error",
     "traceback": [
      "\u001b[0;31m---------------------------------------------------------------------------\u001b[0m",
      "\u001b[0;31mAttributeError\u001b[0m                            Traceback (most recent call last)",
      "\u001b[0;32m/var/folders/ns/60cy6g696zq0bxccd2ky43jr0000gn/T/ipykernel_30525/1496696228.py\u001b[0m in \u001b[0;36m<module>\u001b[0;34m\u001b[0m\n\u001b[0;32m----> 1\u001b[0;31m \u001b[0mProgram\u001b[0m\u001b[0;34m.\u001b[0m\u001b[0mversion\u001b[0m\u001b[0;34m\u001b[0m\u001b[0;34m\u001b[0m\u001b[0m\n\u001b[0m",
      "\u001b[0;31mAttributeError\u001b[0m: type object 'Program' has no attribute 'version'"
     ]
    }
   ],
   "source": [
    "Program.version"
   ]
  },
  {
   "cell_type": "code",
   "execution_count": 33,
   "id": "61add761-9467-4e24-bdfa-e2513e64143b",
   "metadata": {},
   "outputs": [],
   "source": [
    "# using delattr()\n",
    "delattr(Program, 'setting')"
   ]
  },
  {
   "cell_type": "code",
   "execution_count": 34,
   "id": "7cecf51c-53e4-45ef-b031-0870219c9199",
   "metadata": {},
   "outputs": [
    {
     "ename": "AttributeError",
     "evalue": "type object 'Program' has no attribute 'setting'",
     "output_type": "error",
     "traceback": [
      "\u001b[0;31m---------------------------------------------------------------------------\u001b[0m",
      "\u001b[0;31mAttributeError\u001b[0m                            Traceback (most recent call last)",
      "\u001b[0;32m/var/folders/ns/60cy6g696zq0bxccd2ky43jr0000gn/T/ipykernel_30525/1649488729.py\u001b[0m in \u001b[0;36m<module>\u001b[0;34m\u001b[0m\n\u001b[0;32m----> 1\u001b[0;31m \u001b[0mProgram\u001b[0m\u001b[0;34m.\u001b[0m\u001b[0msetting\u001b[0m\u001b[0;34m\u001b[0m\u001b[0;34m\u001b[0m\u001b[0m\n\u001b[0m",
      "\u001b[0;31mAttributeError\u001b[0m: type object 'Program' has no attribute 'setting'"
     ]
    }
   ],
   "source": [
    "Program.setting"
   ]
  },
  {
   "cell_type": "markdown",
   "id": "c178f566-313b-459a-83c6-5717c9367231",
   "metadata": {},
   "source": [
    "### 2. Calling class attributes\n",
    "- `Note:` in this section we'll be calling class attributes directly. This is not referring to us calling attributes off of instances of the class. "
   ]
  },
  {
   "cell_type": "code",
   "execution_count": 42,
   "id": "07cf7076-8aa2-4956-9c67-ad3059338067",
   "metadata": {},
   "outputs": [],
   "source": [
    "class Program:\n",
    "    language = 'Python'\n",
    "    \n",
    "    def say_hello():\n",
    "        print(f'Hello from {program.language}')#accessing the class attribute language"
   ]
  },
  {
   "cell_type": "code",
   "execution_count": 43,
   "id": "f6104fe3-4fac-404f-8470-fa17d9dc01a4",
   "metadata": {},
   "outputs": [
    {
     "data": {
      "text/plain": [
       "mappingproxy({'__module__': '__main__',\n",
       "              'language': 'Python',\n",
       "              'say_hello': <function __main__.Program.say_hello()>,\n",
       "              '__dict__': <attribute '__dict__' of 'Program' objects>,\n",
       "              '__weakref__': <attribute '__weakref__' of 'Program' objects>,\n",
       "              '__doc__': None})"
      ]
     },
     "execution_count": 43,
     "metadata": {},
     "output_type": "execute_result"
    }
   ],
   "source": [
    "# let's inspect some of the attributes of our class\n",
    "Program.__dict__"
   ]
  },
  {
   "cell_type": "markdown",
   "id": "655cf629-5625-4189-9e28-0c2d74916ade",
   "metadata": {},
   "source": [
    "`Notice:`\n",
    "- say_hello function is also an attribute. "
   ]
  },
  {
   "cell_type": "markdown",
   "id": "4d255624-9e0f-4aa6-9eaa-403fe87b31f5",
   "metadata": {},
   "source": [
    "**2.1 ways to retrieve the attributes `say_hello`**"
   ]
  },
  {
   "cell_type": "code",
   "execution_count": 45,
   "id": "4cad086e-6e22-4c1d-a791-6428c1d98a81",
   "metadata": {},
   "outputs": [
    {
     "data": {
      "text/plain": [
       "(<function __main__.Program.say_hello()>,\n",
       " <function __main__.Program.say_hello()>)"
      ]
     },
     "execution_count": 45,
     "metadata": {},
     "output_type": "execute_result"
    }
   ],
   "source": [
    "Program.say_hello, getattr(Program, 'say_hello')"
   ]
  },
  {
   "cell_type": "markdown",
   "id": "bb427e18-392c-4ec9-aab3-6ec0c226f61c",
   "metadata": {},
   "source": [
    "**2.3 Ways to call the attribute `say_hello`**"
   ]
  },
  {
   "cell_type": "code",
   "execution_count": 46,
   "id": "f4651d12-f15e-4c47-a9d9-979eb8fbedff",
   "metadata": {},
   "outputs": [
    {
     "name": "stdout",
     "output_type": "stream",
     "text": [
      "Hello from Python\n"
     ]
    }
   ],
   "source": [
    "Program.say_hello()"
   ]
  },
  {
   "cell_type": "code",
   "execution_count": 47,
   "id": "72607996-1bc9-4cad-bf9a-d188d8afad33",
   "metadata": {},
   "outputs": [
    {
     "name": "stdout",
     "output_type": "stream",
     "text": [
      "Hello from Python\n"
     ]
    }
   ],
   "source": [
    "getattr(Program, 'say_hello')()"
   ]
  },
  {
   "cell_type": "code",
   "execution_count": 48,
   "id": "3250a5b0-a12c-49d5-8c6c-5d99c94f0d56",
   "metadata": {},
   "outputs": [
    {
     "name": "stdout",
     "output_type": "stream",
     "text": [
      "Hello from Python\n"
     ]
    }
   ],
   "source": [
    "# not recommended - but can be used for debugging purposes\n",
    "Program.__dict__['say_hello']()"
   ]
  },
  {
   "cell_type": "code",
   "execution_count": null,
   "id": "59ece933-919b-4670-82f0-6e8870f6cd2b",
   "metadata": {},
   "outputs": [],
   "source": []
  }
 ],
 "metadata": {
  "kernelspec": {
   "display_name": "Python 3 (ipykernel)",
   "language": "python",
   "name": "python3"
  },
  "language_info": {
   "codemirror_mode": {
    "name": "ipython",
    "version": 3
   },
   "file_extension": ".py",
   "mimetype": "text/x-python",
   "name": "python",
   "nbconvert_exporter": "python",
   "pygments_lexer": "ipython3",
   "version": "3.9.7"
  }
 },
 "nbformat": 4,
 "nbformat_minor": 5
}
